{
 "cells": [
  {
   "cell_type": "markdown",
   "metadata": {},
   "source": [
    "# Inspección de datos\n"
   ]
  },
  {
   "cell_type": "markdown",
   "metadata": {},
   "source": [
    "## Descripción del dataset\n",
    "El dataset a trabajar es una base de datos histórica de pregrado (2005-2023) y postgrado (2005-2024) por programa de universidades chilenas. En el archivo se espera encontrar información sobre matrículas, vacantes, aranceles y puntajes PSU de las diferentes carreras.\n",
    "\n",
    "La motivación de utilizar este dataset tiene origen en el análisis de la relación existente en las matrículas de carreras de ciertas áreas (ingeniería, salud, etc.) con las matrículas por género y poder determinar de forma inicial si existen diferencias en el tiempo de estas cantidades.\n",
    "\n",
    "IMPORTANTE: El dataset puede ser encontrado en https://cned.cl/wp-content/uploads/2024/07/BaseDefinitivaINDICES-2005-2024.xlsx Este no ha sido incluído en el repositorio debido a conflictos por el tamaño."
   ]
  },
  {
   "cell_type": "markdown",
   "metadata": {},
   "source": [
    "## Descripción de columnas del dataset\n",
    "__IMPORTANTE: La descripción de los campos fue obtenida directamente de la documentación con la que proviene la base de datos. Esta se pude encontrar en el siguiente link:__ https://cned.cl/sites/default/files/esquema_registro_base_indices_intitucional_0.pdf \n",
    "| Campo                                 | Tipo              | Descripción                                                                                                     | Posibles valores                                                                                   |\n",
    "|---------------------------------------|-------------------|-----------------------------------------------------------------------------------------------------------------|---------------------------------------------------------------------------------------------------|\n",
    "| Año                                   | Entero positivo   | Año de proceso                                                                                                  | 2023                                                                                              |\n",
    "| Cód. Institución                      | Entero positivo   | Código CNED de la institución                                                                                   | 1001                                                                                              |\n",
    "| Nombre Institución                    | Texto             | Nombre de la institución de educación superior                                                                  | AIEP                                                                                              |\n",
    "| Tipo Institución                      | Texto             | Clasificación de la institución según su tipo                                                                   | a) Universidad (Univ.); b) Instituto Profesional (I.P.); c) Centro de Formación Técnica (C.F.T.); d) Fuerzas Armadas (F.F.A.A.) |\n",
    "| Clasificación 1                       | Texto             | Clasificación de la institución                                                                                 | a) Universidades CRUCH; b) Universidades Privadas; c) Institutos Profesionales; d) Centros de Formación Técnica; e) Centros de Formación Técnica Estatales; f) F.F.A.A. |\n",
    "| Clasificación 2                       | Texto             | Clasificación de la institución                                                                                 | a) Universidades Estatales CRUCH; b) Universidades Privadas CRUCH; c) Univ. Privadas Adscritas SUA; d) Universidades Privadas; e) Institutos Profesionales; f) Centros de Formación Técnica; g) Centros de Formación Técnica Estatales; h) F.F.A.A. |\n",
    "| Clasificación 3                       | Texto             | Clasificación de la institución                                                                                 | a) Acreditada; b) No Acreditada/No Aplica                                                           |\n",
    "| Clasificación 4                       | Texto             | Clasificación de la institución                                                                                 | a) Autónoma; b) Licenciamiento; c) Examinación; d) Supervisión; e) Cerrada; e) F.F.A.A.            |\n",
    "| Clasificación 5                       | Texto             | Clasificación de la institución                                                                                 | a) Adscritas a Gratuidad; b) No Adscritas.                                                          |\n",
    "| Clasificación 6                       | Texto             | Clasificación de la institución                                                                                 | a) Subsistema Universitario; b) Subsistema Técnico Profesional; c) No adscrito; d) F.F.A.A.         |\n",
    "| Nombre de la Sede                     | Texto             | Ciudad donde se dicta el programa                                                                               | Santiago                                                                                           |\n",
    "| Comuna donde se imparte la carrera o programa | Texto             | Nombre de la comuna donde la institución declara que dicta el programa                                          | Maipú                                                                                            |\n",
    "| Nombre Región                         | Texto             | Corresponde a la región donde se dicta el programa                                                              | Región de Ñuble                                                                                    |\n",
    "| Orden Geográfico de la Región (Norte a Sur) | Número enteros entre uno y quince | Código que permite ordenar geográficamente las regiones de norte a sur                                          | 11                                                                                                |\n",
    "| Cód. Carrera                          | Entero positivo   | Código de la carrera                                                                                            | 26315                                                                                              |\n",
    "| Carrera Genérica                      | Texto             | Corresponde a una clasificación general, contiene aquellos programas que difieren por el horario, comuna, nombre de programa, etc, pero que entregan la misma formación profesional | Arte y similares                                                                                   |\n",
    "| Nombre Programa                       | Texto             | Corresponde al nombre del programa dado por la institución                                                      | Artes Visuales                                                                                    |\n",
    "| Mención o Especialidad                | Texto             | Corresponde a la Especialidad o mención de la carrera                                                           | Oftalmología y Contactología, Bioanálisis Clínico Molecular, Inmunohematología y Medicina Transfusional |\n",
    "| Horario                               | Texto             | Horario del programa                                                                                            | a) Diurno; b) Vespertino; c) Otro                                                                  |\n",
    "| Tipo Programa                         | Texto             | Un programa o carrera es Especial cuando presenta alguna de las siguientes características: 1) No está dirigido a estudiantes que provienen de la educación media. 2) La carrera o programa se orientan a la regularización de títulos. 3) La carrera o programa se imparte en modalidad a distancia o no presencial o semipresencial (menos de un 60% del programa se imparte a distancia). 4) La carrera o programa exige experiencia laboral. 5) La carrera o programa corresponde a una continuidad de estudios. | Regular o Especial                                                                                |\n",
    "| Área Conocimiento                     | Texto             | Corresponde al área de conocimiento en que clasifica la carrera o programa. Es una clasificación temática.      | a) Administración y Comercio; b) Agricultura, Silvicultura, Pesca y Veterinaria; c) Arte y Arquitectura; d) Ciencias; e) Ciencias Sociales; f) Derecho; g) Educación, h) Humanidades, i) Salud; j) Tecnología. |\n",
    "| idgenerocarrera                       | Entero positivo   | Código interno CNED de carrera genérica                                                                         | Código asignado por CNED                                                                          |\n",
    "| Tipo Carrera                          | Texto             | Corresponde a una clasificación de la carrera o programa según su plan de estudios.                            | a) Plan común o ciclo básico; b) Bachillerato; c) Técnico de nivel superior; d) Profesional; e) Profesional con Licenciatura; f) Licenciatura |\n",
    "| IngresoDirecto                        | Ticked            | Parámetro que indica si el ingreso del programa se realiza directamente, por ejemplo, solo se necesita enseñanza media o si requiere un requisito previo, por ejemplo, título o estudios anteriores | a) Si; b) No                                                                                       |\n",
    "| Año Inicio Actividades                | Entero positivo   | Año de inicio de actividades de la carrera                                                                      | 2021                                                                                              |\n",
    "| Nombre del Campus                     | Texto             | El campus de refiere a una unidad académica y administrativa de la institución existente en comunas de una ciudad | Providencia                                                                                       |\n",
    "| Duración (en semestres)               | Entero positivo   | Duración de la carrera en semestres                                                                             | 8                                                                                                 |\n",
    "| Cód. Campus                           | Entero positivo   | Código interno CNED de campus                                                                                   | 1016001001                                                                                        |\n",
    "| Cód. Sede                             | Entero positivo   | Código interno CNED de sede                                                                                     | 1016001                                                                                           |\n",
    "| Título                                | Texto             | Corresponde al título al que conduce el programa. Debe incluir las respectivas menciones o especializaciones, en caso de existir | Ingeniero Civil Industrial                                                                        |\n",
    "| Grado Académico                       | Texto             | Corresponde al grado académico al que conduce el programa                                                      | Licenciado en Ciencias de la Ingeniería                                                           |\n",
    "| Máximo Puntaje (promedio matemáticas y lenguaje) | Texto             | Corresponde al valor máximo, por programa, del promedio de las pruebas de Matemáticas y Lenguaje y Comunicación ponderadas en un 50%. Considerar sólo alumnos matriculados en primer año y que ingresaron vía PSU, PDT o PAES. | Su rango varía entre 100 y 1000 puntos. “Puntaje mínimo promedio <= Puntaje promedio <= Puntaje máximo promedio”. |\n",
    "| Promedio Puntaje (promedio matemáticas y lenguaje) | Entero positivo   | Corresponde al valor promedio, por programa, del promedio de las pruebas de Matemáticas y Lenguaje y Comunicación ponderadas en un 50%. Considerar sólo alumnos matriculados en primer año y que ingresaron vía PSU, PDT o PAES. | Su rango varía entre 100 y 1000 puntos. “Puntaje mínimo promedio <= Puntaje promedio <= Puntaje máximo promedio”. |\n",
    "| Mínimo Puntaje PSU (promedio matemáticas y lenguaje) | Entero positivo   | Corresponde al valor mínimo, por programa, del promedio de las pruebas de Matemáticas y Lenguaje y Comunicación ponderadas en un 50%. Considerar sólo alumnos matriculados en primer año y que ingresaron vía PSU, PDT o PAES. | Su rango varía entre 100 y 1000 puntos. “Puntaje mínimo promedio <= Puntaje promedio <= Puntaje máximo promedio”. |\n",
    "| Puntaje de corte (primer seleccionado) | Entero positivo   | Corresponde al valor máximo, por programa, del puntaje ponderado de selección o corte que exige esta carrera como requisito de ingreso. Considerar sólo alumnos matriculados en primer año y que ingresaron vía PSU, PDT o PAES. | Su rango varía entre 100 y 1000 puntos. “Mínimo Puntaje de corte <= Promedio Puntaje de corte <= Máximo Puntaje de corte”. |\n",
    "| Puntaje de corte (promedio de la carrera) | Entero positivo   | Corresponde al valor promedio, por programa, del puntaje ponderado de selección o corte que exige esta carrera como requisito de ingreso. Considerar sólo alumnos matriculados en primer año y que ingresaron vía PSU, PDT o PAES. | Su rango varía entre 100 y 1000 puntos. “Mínimo Puntaje de corte <= Promedio Puntaje de corte <= Máximo Puntaje de corte”. |\n",
    "| Puntaje de corte (último seleccionado) | Entero positivo   | Corresponde al valor mínimo, por programa, del puntaje ponderado de selección o corte que exige esta carrera como requisito de ingreso. Considerar sólo alumnos matriculados en primer año y que ingresaron vía PSU, PDT o PAES. | Su rango varía entre 100 y 1000 puntos. “Mínimo Puntaje de corte <= Promedio Puntaje de corte <= Máximo Puntaje de corte”. |\n",
    "| (*) Máximo Puntaje NEM                | Entero positivo   | Corresponde al valor máximo, por programa, del Punt\n"
   ]
  },
  {
   "cell_type": "code",
   "execution_count": null,
   "metadata": {},
   "outputs": [],
   "source": [
    "import pandas as pd\n",
    "df = pd.read_csv('BaseDefinitivaINDICES-2005-2024.csv', low_memory=False)\n"
   ]
  },
  {
   "cell_type": "markdown",
   "metadata": {},
   "source": [
    "## Cantidad de registros\n",
    "El archivo contiene 232739 filas y 61 columnas"
   ]
  },
  {
   "cell_type": "code",
   "execution_count": 25,
   "metadata": {},
   "outputs": [
    {
     "name": "stdout",
     "output_type": "stream",
     "text": [
      "Cantidad de filas: 232739 - Cantidad de columnas: 61\n"
     ]
    }
   ],
   "source": [
    "print(f'Cantidad de filas: {df.shape[0]} - Cantidad de columnas: {df.shape[1]}')"
   ]
  },
  {
   "cell_type": "markdown",
   "metadata": {},
   "source": [
    "## Nombres de columnas\n",
    "En primera instancia se puede observar que los nombres de las columnas están con espacios y con carácteres especiales como tildes o º por lo que se recomienda estandarizar a minúsculas y separados por _ para evitar posibles problemas."
   ]
  },
  {
   "cell_type": "code",
   "execution_count": 20,
   "metadata": {},
   "outputs": [
    {
     "data": {
      "text/plain": [
       "Index(['Año', 'Cód. Institución', 'Nombre Institución', 'Tipo Institución',\n",
       "       'Clasificación1', 'Clasificación2', 'Clasificación3', 'Clasificación4',\n",
       "       'Clasificación5', 'Clasificación6', 'Nombre de la Sede',\n",
       "       'Comuna donde se imparte la carrera o programa', 'Nombre Region',\n",
       "       'Orden Geográfico de la Región (Norte aSur)', 'Cód. Carrera',\n",
       "       'Carrera Genérica', 'Nombre Programa', 'Mención o Especialidad',\n",
       "       'Horario', 'Tipo Programa', 'Area Conocimiento', 'idgenerocarrera',\n",
       "       'Tipo Carrera', 'IngresoDirecto', 'Año Inicio Actividades',\n",
       "       'Nombre del Campus', 'Duración (en semestres)', 'Cód. Campus',\n",
       "       'Cód. Sede', 'Título', 'Grado Académico',\n",
       "       'Máximo Puntaje (promedio matemáticas y lenguaje)',\n",
       "       'Promedio Puntaje (promedio matemáticas y lenguaje)',\n",
       "       'Mínimo Puntaje (promedio matemáticas y lenguaje)',\n",
       "       'Puntaje de corte (primer seleccionado)',\n",
       "       'Puntaje de corte (promedio de la carrera)',\n",
       "       'Puntaje de corte (último seleccionado)', 'Máximo Puntaje NEM',\n",
       "       'Promedio Puntaje NEM', 'Mínimo Puntaje NEM', 'Máximo Puntaje Ranking',\n",
       "       'Promedio Puntaje Ranking', 'Mínimo Puntaje Ranking',\n",
       "       'Nº Alumnos Ingreso Via PSU o PDT', 'Nº Alumnos Ingreso Otra Via',\n",
       "       'Valor de matrícula', 'Valor de arancel', 'Valor del Título',\n",
       "       'Tipo Moneda', 'Vacantes', 'Matrícula primer año hombres',\n",
       "       'Matrícula primer año mujeres', 'Matrícula primer año extranjeros',\n",
       "       'auxiliar', 'Matrícula Primer Año', 'Matrícula total hombres',\n",
       "       'Matrícula total mujeres', 'Matrícula total extranjeros',\n",
       "       'Matrícula Total', 'Códgo SIES', 'Pregrado/Posgrado'],\n",
       "      dtype='object')"
      ]
     },
     "execution_count": 20,
     "metadata": {},
     "output_type": "execute_result"
    }
   ],
   "source": [
    "df.columns"
   ]
  },
  {
   "cell_type": "markdown",
   "metadata": {},
   "source": [
    "## Tipos de datos\n",
    "Un tema importante al importar los datos es considerar que hay campos que se importan como numéricos que son categóricos, como por ejemplo \"Año\" o \"Cód. Institución\". Por lo tanto es importante definir este tipo de campos como categóricos para evitar problemas."
   ]
  },
  {
   "cell_type": "code",
   "execution_count": 27,
   "metadata": {},
   "outputs": [
    {
     "name": "stdout",
     "output_type": "stream",
     "text": [
      "<class 'pandas.core.frame.DataFrame'>\n",
      "RangeIndex: 232739 entries, 0 to 232738\n",
      "Data columns (total 61 columns):\n",
      " #   Column                                              Non-Null Count   Dtype  \n",
      "---  ------                                              --------------   -----  \n",
      " 0   Año                                                 232739 non-null  int64  \n",
      " 1   Cód. Institución                                    232739 non-null  int64  \n",
      " 2   Nombre Institución                                  232739 non-null  object \n",
      " 3   Tipo Institución                                    232739 non-null  object \n",
      " 4   Clasificación1                                      232739 non-null  object \n",
      " 5   Clasificación2                                      232739 non-null  object \n",
      " 6   Clasificación3                                      232739 non-null  object \n",
      " 7   Clasificación4                                      232739 non-null  object \n",
      " 8   Clasificación5                                      232739 non-null  object \n",
      " 9   Clasificación6                                      232739 non-null  object \n",
      " 10  Nombre de la Sede                                   232739 non-null  object \n",
      " 11  Comuna donde se imparte la carrera o programa       232739 non-null  object \n",
      " 12  Nombre Region                                       232739 non-null  object \n",
      " 13  Orden Geográfico de la Región (Norte aSur)          232739 non-null  int64  \n",
      " 14  Cód. Carrera                                        232739 non-null  int64  \n",
      " 15  Carrera Genérica                                    232739 non-null  object \n",
      " 16  Nombre Programa                                     232739 non-null  object \n",
      " 17  Mención o Especialidad                              32205 non-null   object \n",
      " 18  Horario                                             232739 non-null  object \n",
      " 19  Tipo Programa                                       232739 non-null  object \n",
      " 20  Area Conocimiento                                   232739 non-null  object \n",
      " 21  idgenerocarrera                                     232739 non-null  int64  \n",
      " 22  Tipo Carrera                                        232739 non-null  object \n",
      " 23  IngresoDirecto                                      232739 non-null  object \n",
      " 24  Año Inicio Actividades                              232739 non-null  int64  \n",
      " 25  Nombre del Campus                                   110377 non-null  object \n",
      " 26  Duración (en semestres)                             232013 non-null  float64\n",
      " 27  Cód. Campus                                         110825 non-null  float64\n",
      " 28  Cód. Sede                                           232739 non-null  int64  \n",
      " 29  Título                                              200853 non-null  object \n",
      " 30  Grado Académico                                     87039 non-null   object \n",
      " 31  Máximo Puntaje (promedio matemáticas y lenguaje)    42027 non-null   float64\n",
      " 32  Promedio Puntaje (promedio matemáticas y lenguaje)  41735 non-null   float64\n",
      " 33  Mínimo Puntaje (promedio matemáticas y lenguaje)    41577 non-null   float64\n",
      " 34  Puntaje de corte (primer seleccionado)              36037 non-null   float64\n",
      " 35  Puntaje de corte (promedio de la carrera)           35941 non-null   float64\n",
      " 36  Puntaje de corte (último seleccionado)              38072 non-null   float64\n",
      " 37  Máximo Puntaje NEM                                  21965 non-null   float64\n",
      " 38  Promedio Puntaje NEM                                22150 non-null   float64\n",
      " 39  Mínimo Puntaje NEM                                  21952 non-null   float64\n",
      " 40  Máximo Puntaje Ranking                              20929 non-null   float64\n",
      " 41  Promedio Puntaje Ranking                            21072 non-null   float64\n",
      " 42  Mínimo Puntaje Ranking                              20916 non-null   float64\n",
      " 43  Nº Alumnos Ingreso Via PSU o PDT                    43463 non-null   float64\n",
      " 44  Nº Alumnos Ingreso Otra Via                         77458 non-null   float64\n",
      " 45  Valor de matrícula                                  179349 non-null  object \n",
      " 46  Valor de arancel                                    173306 non-null  object \n",
      " 47  Valor del Título                                    194882 non-null  object \n",
      " 48  Tipo Moneda                                         232739 non-null  object \n",
      " 49  Vacantes                                            171484 non-null  float64\n",
      " 50  Matrícula primer año hombres                        210639 non-null  float64\n",
      " 51  Matrícula primer año mujeres                        210399 non-null  float64\n",
      " 52  Matrícula primer año extranjeros                    168723 non-null  float64\n",
      " 53  auxiliar                                            232739 non-null  int64  \n",
      " 54  Matrícula Primer Año                                232739 non-null  int64  \n",
      " 55  Matrícula total hombres                             229392 non-null  float64\n",
      " 56  Matrícula total mujeres                             228981 non-null  float64\n",
      " 57  Matrícula total extranjeros                         178334 non-null  float64\n",
      " 58  Matrícula Total                                     232739 non-null  int64  \n",
      " 59  Códgo SIES                                          145692 non-null  object \n",
      " 60  Pregrado/Posgrado                                   232739 non-null  object \n",
      "dtypes: float64(23), int64(10), object(28)\n",
      "memory usage: 108.3+ MB\n"
     ]
    }
   ],
   "source": [
    "df.info()"
   ]
  },
  {
   "cell_type": "markdown",
   "metadata": {},
   "source": [
    "## Valores nulos\n",
    "A continuación se muestran los campos que continienen valores nulos, siendo \"Mínimo Puntaje Ranking\" el de mayor cantidad."
   ]
  },
  {
   "cell_type": "code",
   "execution_count": 39,
   "metadata": {},
   "outputs": [
    {
     "data": {
      "text/plain": [
       "Mínimo Puntaje Ranking                                211823\n",
       "Máximo Puntaje Ranking                                211810\n",
       "Promedio Puntaje Ranking                              211667\n",
       "Mínimo Puntaje NEM                                    210787\n",
       "Máximo Puntaje NEM                                    210774\n",
       "Promedio Puntaje NEM                                  210589\n",
       "Mención o Especialidad                                200534\n",
       "Puntaje de corte (promedio de la carrera)             196798\n",
       "Puntaje de corte (primer seleccionado)                196702\n",
       "Puntaje de corte (último seleccionado)                194667\n",
       "Mínimo Puntaje (promedio matemáticas y lenguaje)      191162\n",
       "Promedio Puntaje (promedio matemáticas y lenguaje)    191004\n",
       "Máximo Puntaje (promedio matemáticas y lenguaje)      190712\n",
       "Nº Alumnos Ingreso Via PSU o PDT                      189276\n",
       "Nº Alumnos Ingreso Otra Via                           155281\n",
       "Grado Académico                                       145700\n",
       "Nombre del Campus                                     122362\n",
       "Cód. Campus                                           121914\n",
       "Códgo SIES                                             87047\n",
       "Matrícula primer año extranjeros                       64016\n",
       "Vacantes                                               61255\n",
       "Valor de arancel                                       59433\n",
       "Matrícula total extranjeros                            54405\n",
       "Valor de matrícula                                     53390\n",
       "Valor del Título                                       37857\n",
       "Título                                                 31886\n",
       "Matrícula primer año mujeres                           22340\n",
       "Matrícula primer año hombres                           22100\n",
       "Matrícula total mujeres                                 3758\n",
       "Matrícula total hombres                                 3347\n",
       "Duración (en semestres)                                  726\n",
       "dtype: int64"
      ]
     },
     "execution_count": 39,
     "metadata": {},
     "output_type": "execute_result"
    }
   ],
   "source": [
    "missing_values = df.isnull().sum()\n",
    "missing_values = missing_values[missing_values > 0].sort_values(ascending=False)\n",
    "missing_values"
   ]
  },
  {
   "cell_type": "markdown",
   "metadata": {},
   "source": [
    "## Valores duplicados\n",
    "En la base de datos se justifican los registros duplicados debido a que una misma carrera puede ser impartida múltiples añospor una misma institución además de ser impartida por múltiples instituciones. Por lo mismo, para determinar la existencia deregistros duplicados se realiza en base a los campos \"Año\", \"Cód. Institución\" y \"Cód. Carrera\". En este sentido, no se encuentranregistros duplicados en la base de datos."
   ]
  },
  {
   "cell_type": "code",
   "execution_count": 33,
   "metadata": {},
   "outputs": [
    {
     "data": {
      "text/plain": [
       "Series([], dtype: bool)"
      ]
     },
     "execution_count": 33,
     "metadata": {},
     "output_type": "execute_result"
    }
   ],
   "source": [
    "\n",
    "duplicated_rows = df.duplicated(subset=['Año', 'Cód. Institución', 'Cód. Carrera'])\n",
    "duplicated_rows = duplicated_rows[duplicated_rows]\n",
    "duplicated_rows"
   ]
  },
  {
   "cell_type": "markdown",
   "metadata": {},
   "source": [
    "## Rangos de valores\n",
    "Como análisis inicial se puede observar que, en promedio, la cantidad de matrículas de primer año de mujeres es mayor que la de mujeres hombres."
   ]
  },
  {
   "cell_type": "code",
   "execution_count": 40,
   "metadata": {},
   "outputs": [
    {
     "data": {
      "text/html": [
       "<div>\n",
       "<style scoped>\n",
       "    .dataframe tbody tr th:only-of-type {\n",
       "        vertical-align: middle;\n",
       "    }\n",
       "\n",
       "    .dataframe tbody tr th {\n",
       "        vertical-align: top;\n",
       "    }\n",
       "\n",
       "    .dataframe thead th {\n",
       "        text-align: right;\n",
       "    }\n",
       "</style>\n",
       "<table border=\"1\" class=\"dataframe\">\n",
       "  <thead>\n",
       "    <tr style=\"text-align: right;\">\n",
       "      <th></th>\n",
       "      <th>Matrícula primer año hombres</th>\n",
       "      <th>Matrícula primer año mujeres</th>\n",
       "    </tr>\n",
       "  </thead>\n",
       "  <tbody>\n",
       "    <tr>\n",
       "      <th>count</th>\n",
       "      <td>210639.000000</td>\n",
       "      <td>210399.000000</td>\n",
       "    </tr>\n",
       "    <tr>\n",
       "      <th>mean</th>\n",
       "      <td>15.593489</td>\n",
       "      <td>16.498890</td>\n",
       "    </tr>\n",
       "    <tr>\n",
       "      <th>std</th>\n",
       "      <td>25.675797</td>\n",
       "      <td>26.597817</td>\n",
       "    </tr>\n",
       "    <tr>\n",
       "      <th>min</th>\n",
       "      <td>0.000000</td>\n",
       "      <td>0.000000</td>\n",
       "    </tr>\n",
       "    <tr>\n",
       "      <th>25%</th>\n",
       "      <td>1.000000</td>\n",
       "      <td>1.000000</td>\n",
       "    </tr>\n",
       "    <tr>\n",
       "      <th>50%</th>\n",
       "      <td>8.000000</td>\n",
       "      <td>8.000000</td>\n",
       "    </tr>\n",
       "    <tr>\n",
       "      <th>75%</th>\n",
       "      <td>20.000000</td>\n",
       "      <td>22.000000</td>\n",
       "    </tr>\n",
       "    <tr>\n",
       "      <th>max</th>\n",
       "      <td>1117.000000</td>\n",
       "      <td>1203.000000</td>\n",
       "    </tr>\n",
       "  </tbody>\n",
       "</table>\n",
       "</div>"
      ],
      "text/plain": [
       "       Matrícula primer año hombres  Matrícula primer año mujeres\n",
       "count                 210639.000000                 210399.000000\n",
       "mean                      15.593489                     16.498890\n",
       "std                       25.675797                     26.597817\n",
       "min                        0.000000                      0.000000\n",
       "25%                        1.000000                      1.000000\n",
       "50%                        8.000000                      8.000000\n",
       "75%                       20.000000                     22.000000\n",
       "max                     1117.000000                   1203.000000"
      ]
     },
     "execution_count": 40,
     "metadata": {},
     "output_type": "execute_result"
    }
   ],
   "source": [
    "cols = ['Matrícula primer año hombres', 'Matrícula primer año mujeres']\n",
    "df[cols].describe()"
   ]
  },
  {
   "cell_type": "code",
   "execution_count": null,
   "metadata": {},
   "outputs": [],
   "source": []
  }
 ],
 "metadata": {
  "kernelspec": {
   "display_name": "Python 3",
   "language": "python",
   "name": "python3"
  },
  "language_info": {
   "codemirror_mode": {
    "name": "ipython",
    "version": 3
   },
   "file_extension": ".py",
   "mimetype": "text/x-python",
   "name": "python",
   "nbconvert_exporter": "python",
   "pygments_lexer": "ipython3",
   "version": "3.9.7"
  }
 },
 "nbformat": 4,
 "nbformat_minor": 2
}
