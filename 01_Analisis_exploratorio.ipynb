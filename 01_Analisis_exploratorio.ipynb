{
 "cells": [
  {
   "cell_type": "markdown",
   "metadata": {},
   "source": [
    "# Inspección de datos\n"
   ]
  },
  {
   "cell_type": "markdown",
   "metadata": {},
   "source": [
    "## Descripción del dataset\n",
    "El dataset a trabajar es una base de datos histórica de pregrado (2005-2023) y postgrado (2005-2024) por programa de universidades chilenas. En el archivo se espera encontrar información sobre matrículas, vacantes, aranceles y puntajes PSU de las diferentes carreras.\n",
    "\n",
    "La motivación de utilizar este dataset tiene origen en el análisis de la relación existente en las matrículas de carreras de ciertas áreas (ingeniería, salud, etc.) con las matrículas por género y poder determinar de forma inicial si existen diferencias en el tiempo de estas cantidades.\n",
    "\n",
    "__IMPORTANTE: El dataset puede ser encontrado en https://cned.cl/wp-content/uploads/2024/07/BaseDefinitivaINDICES-2005-2024.xlsx Este no ha sido incluído en el repositorio debido a conflictos por el tamaño.__"
   ]
  },
  {
   "cell_type": "markdown",
   "metadata": {},
   "source": [
    "## Descripción de columnas del dataset\n",
    "__IMPORTANTE: La descripción de los campos fue obtenida directamente de la documentación con la que proviene la base de datos. Esta se pude encontrar en el siguiente link:__ https://cned.cl/sites/default/files/esquema_registro_base_indices_intitucional_0.pdf \n",
    "| Nombre                                 | Tipo              | Descripción                                                                                 | Posibles Valores                                                                                                                    | Observación |\n",
    "|----------------------------------------|-------------------|---------------------------------------------------------------------------------------------|-------------------------------------------------------------------------------------------------------------------------------------|-------------|\n",
    "| Año                                    | Entero positivo   | Año de proceso                                                                              | 2023                                                                                                                                |             |\n",
    "| Cód. Institución                       | Entero positivo   | Código CNED de la institución                                                               | 1001                                                                                                                                |             |\n",
    "| Nombre Institución                     | Texto             | Nombre de la institución de educación superior                                              | AIEP                                                                                                                                |             |\n",
    "| Tipo Institución                       | Texto             | Clasificación de la institución según su tipo                                               | a) Universidad (Univ.); b) Instituto Profesional; (I.P.); c) Centro de Formación Técnica (C.F.T.); d) Fuerzas Armadas (F.F.A.A.)     |             |\n",
    "| Clasificación 1                        | Texto             | Clasificación de la institución                                                             | a) Universidades CRUCH; b) Universidades Privadas; c) Institutos Profesionales; d) Centros de Formación Técnica; e) Centros de Formación Técnica Estatales; f) F.F.A.A. |             |\n",
    "| Clasificación 2                        | Texto             | Clasificación de la institución                                                             | a) Universidades Estatales CRUCH; b) Universidades Privadas CRUCH; c) Univ. Privadas Adscritas SUA; d) Universidades Privadas; e) Institutos Profesionales; f) Centros de Formación Técnica; g) Centros de Formación Técnica Estatales; h) F.F.A.A. |             |\n",
    "| Clasificación 3                        | Texto             | Clasificación de la institución                                                             | a) Acreditada; b) No Acreditada/No Aplica                                                                                           |             |\n",
    "| Clasificación 4                        | Texto             | Clasificación de la institución                                                             | a) Autónoma; b) Licenciamiento; c) Examinación; d) Supervisión; e) Cerrada; e) F.F.A.A.                                             |             |\n",
    "| Clasificación 5                        | Texto             | Clasificación de la institución                                                             | a) Adscritas a Gratuidad; b) No Adscritas.                                                                                           |             |\n",
    "| Clasificación 6                        | Texto             | Clasificación de la institución                                                             | a) Subsistema Universitario; b) Subsistema Técnico Profesional; c) No adscrito; d) F.F.A.A.                                          |             |\n",
    "| Nombre de la Sede                      | Texto             | Ciudad donde se dicta el programa                                                          | Santiago                                                                                                                            |             |\n",
    "| Comuna donde se imparte la carrera o programa | Texto       | Nombre de la comuna donde la institución declara que dicta el programa                     | Maipú                                                                                                                               |             |\n",
    "| Nombre Región                          | Texto             | Corresponde a la región donde se dicta el programa                                          | Región de Ñuble                                                                                                                     |             |\n",
    "| Orden Geográfico de la Región (Norte a Sur) | Número entero entre uno y quince | Código que permite ordenar geográficamente las regiones de norte a sur | 11                                                                                                                                  |             |\n",
    "| Cód. Carrera                           | Entero positivo   | Código de la carrera                                                                        | 26315                                                                                                                               |             |\n",
    "| Carrera Genérica                       | Texto             | Clasificación general, contiene aquellos programas que difieren por el horario, comuna, nombre de programa, etc, pero que entregan la misma formación profesional. | Arte y similares                                                                                                                    |             |\n",
    "| Nombre Programa                        | Texto             | Nombre del programa dado por la institución                                                | Artes Visuales                                                                                                                      |             |\n",
    "| Mención o Especialidad                 | Texto             | Especialidad o mención de la carrera                                                       | Oftalmología y Contactología, Bioanálisis Clínico Molecular, Inmunohematología y Medicina Transfusional                               |             |\n",
    "| Horario                                | Texto             | Horario del programa                                                                       | a) Diurno; b) Vespertino; c) Otro                                                                                                   |             |\n",
    "| Tipo Programa                          | Texto             | Un programa o carrera es Especial cuando presenta alguna de las siguientes características: 1) No está dirigido a estudiantes que provienen de la educación media. 2) La carrera o programa se orientan a la regularización de títulos. 3) La carrera o programa se imparte en modalidad a distancia o no presencial o semipresencial (menos de un 60% del programa se imparte a distancia). 4) La carrera o programa exige experiencia laboral. 5) La carrera o programa corresponde a una continuidad de estudios. | Regular o Especial                                                                                                                  |             |\n",
    "| Área Conocimiento                      | Texto             | Área de conocimiento en que clasifica la carrera o programa. Es una clasificación temática. | a) Administración y Comercio; b) Agricultura, Silvicultura, Pesca y Veterinaria; c) Arte y Arquitectura; d) Ciencias; e) Ciencias Sociales; f) Derecho; g) Educación; h) Humanidades; i) Salud; j) Tecnología. |             |\n",
    "| idgenerocarrera                        | Entero positivo   | Código interno CNED de carrera genérica                                                    | Código asignado por CNED                                                                                                            |             |\n",
    "| Tipo Carrera                           | Texto             | Clasificación de la carrera o programa según su plan de estudios                           | a) Plan común o ciclo básico; b) Bachillerato; c) Técnico de nivel superior; d) Profesional; e) Profesional con Licenciatura; f) Licenciatura |             |\n",
    "| IngresoDirecto                         | Ticked            | Parámetro que indica si el ingreso del programa se realiza directamente, por ejemplo, solo se necesita enseñanza media o si requiere un requisito previo, por ejemplo, título o estudios anteriores | a) Si; b) No                                                                                                                        |             |\n",
    "| Año Inicio Actividades                 | Entero positivo   | Año de inicio de actividades de la carrera                                                 | 2021                                                                                                                                |             |\n",
    "| Nombre del Campus                      | Texto             | El campus de refiere a una unidad académica y administrativa de la institución existente en comunas de una ciudad. | Providencia                                                                                                                         |             |\n",
    "| Duración (en semestres)                | Entero positivo   | Duración de la carrera en semestres                                                        | 8                                                                                                                                   |             |\n",
    "| Cód. Campus                            | Entero positivo   | Código interno CNED de campus                                                              | 1016001001                                                                                                                          |             |\n",
    "| Cód. Sede                              | Entero positivo   | Código interno CNED de sede                                                                | 1016001                                                                                                                             |             |\n",
    "| Título                                 | Texto             | Título al que conduce el programa. Debe incluir las respectivas las menciones o especializaciones, en caso de existir. | Ingeniero Civil Industrial                                                                                                          |             |\n",
    "| Grado Académico                        | Texto             | Grado académico al que conduce el programa.                                                | Licenciado en Ciencias de la Ingeniería                                                                                             |             |\n",
    "| Máximo Puntaje (promedio matemáticas y lenguaje) | Texto   | Valor máximo, por programa, del promedio de las pruebas de Matemáticas y Lenguaje y Comunicación ponderadas en un 50%. Considerar sólo alumnos matriculados en primer año y que ingresaron vía PSU,PDT o PAES.  | Su rango varía entre 100 y 1000 puntos.                                                                                              | “Puntaje mínimo promedio <= Puntaje promedio <= Puntaje máximo promedio” |\n",
    "| Promedio Puntaje (promedio matemáticas y lenguaje) | Entero positivo | Corresponde al valor promedio, por programa, del promedio de las pruebas de Matemáticas y Lenguaje y Comunicación ponderadas en un 50%. Considerar sólo alumnos matriculados en primer año y que ingresaron vía PSU, PDT o PAES. | Su rango varía entre 100 y 1000 puntos. | “Puntaje mínimo promedio <= Puntaje promedio <= Puntaje máximo promedio”. |\n",
    "| Mínimo Puntaje PSU (promedio matemáticas y lenguaje) | Entero positivo | Corresponde al valor mínimo, por programa, del promedio de las pruebas de Matemáticas y Lenguaje y Comunicación ponderadas en un 50%. Considerar sólo alumnos matriculados en primer año y que ingresaron vía PSU, PDT o PAES. | Su rango varía entre 100 y 1000 puntos. | “Puntaje mínimo promedio <= Puntaje promedio <= Puntaje máximo promedio”. |\n",
    "| Puntaje de corte (primer seleccionado) | Entero positivo | Corresponde al valor máximo, por programa, del puntaje ponderado de selección o corte que exige esta carrera como requisito de ingreso. Considerar sólo alumnos matriculados en primer año y que ingresaron vía PSU, PDT o PAES. | Su rango varía entre 100 y 1000 puntos. | “Mínimo Puntaje de corte <= Promedio Puntaje de corte <= Máximo Puntaje de corte”. |\n",
    "| Puntaje de corte (promedio de la carrera) | Entero positivo | Corresponde al valor promedio, por programa, del puntaje ponderado de selección o corte que exige esta carrera como requisito de ingreso. Considerar sólo alumnos matriculados en primer año y que ingresaron vía PSU, PDT o PAES. | Su rango varía entre 100 y 1000 puntos. | “Mínimo Puntaje de corte <= Promedio Puntaje de corte <= Máximo Puntaje de corte”. |\n",
    "| Puntaje de corte (último seleccionado) | Entero positivo | Corresponde al valor mínimo, por programa, del puntaje ponderado de selección o corte que exige esta carrera como requisito de ingreso. Considerar sólo alumnos matriculados en primer año y que ingresaron vía PSU, PDT o PAES. | Su rango varía entre 100 y 1000 puntos. | “Mínimo Puntaje de corte <= Promedio Puntaje de corte <= Máximo Puntaje de corte”. |\n",
    "| (*) Máximo Puntaje NEM                 | Entero positivo | Corresponde al valor máximo, por programa, del Puntaje PSU correspondiente a las notas de enseñanza media. Considerar sólo alumnos matriculados en primer año y que ingresaron vía PSU, PDT o PAES. | Su rango varía entre 100 y 1000 puntos. | “Mínimo<= Promedio <= Máximo”.                                          |\n",
    "| (*) Promedio Puntaje NEM               | Entero positivo | Corresponde al valor promedio, por programa, del Puntaje PSU correspondiente a las notas de enseñanza media. Considerar sólo alumnos matriculados en primer año y que ingresaron vía PSU, PDT o PAES. | Su rango varía entre 100 y 1000 puntos. | “Mínimo<= Promedio <= Máximo”.                                          |\n",
    "| (*) Mínimo Puntaje NEM                 | Entero positivo | Corresponde al valor mínimo, por programa, del Puntaje PSU correspondiente a las notas de enseñanza media. Considerar sólo alumnos matriculados en primer año y que ingresaron vía PSU, PDT o PAES. | Su rango varía entre 100 y 1000 puntos. | “Mínimo<= Promedio <= Máximo”.                                          |\n",
    "| (*) Máximo Puntaje Ranking             | Entero positivo | Corresponde al valor máximo, por programa, del Puntaje correspondiente al ranking de notas. Considerar sólo alumnos matriculados en primer año y que ingresaron vía PSU, PDT o PAES. | Su rango varía entre 100 y 1000 puntos. | “Mínimo<= Promedio <= Máximo”.                                          |\n",
    "| (*) Promedio Puntaje Ranking           | Entero positivo | Corresponde al valor promedio, por programa, del Puntaje correspondiente al ranking de notas. Considerar sólo alumnos matriculados en primer año y que ingresaron vía PSU, PDT o PAES. | Su rango varía entre 100 y 1000 puntos. | “Mínimo<= Promedio <= Máximo”.                                          |\n",
    "| (*) Mínimo Puntaje Ranking             | Entero positivo | Corresponde al valor mínimo, por programa, del Puntaje correspondiente al ranking de notas. Considerar sólo alumnos matriculados en primer año y que ingresaron vía PSU, PDT o PAES. | Su rango varía entre 100 y 1000 puntos. | “Mínimo<= Promedio <= Máximo”.                                          |\n",
    "| (*) Nº Alumnos Ingreso PSU o PDT       | Entero positivo | Corresponde al número de alumnos matriculados en primer año que ingresaron vía PSU, PDT o PAES. | -                                   | Nº de Alumnos matriculados en primer año vía ingreso + Nº de Alumnos matriculados en primer año por otra vía = Matrícula de primer año. |\n",
    "| (*) Nº Alumnos Ingreso Otra Via        | Entero positivo | Corresponde al número de alumnos matriculados en primer año que no ingresaron vía PSU, PDT o PAES. | -                                   | Nº de Alumnos matriculados en primer año vía ingreso + Nº de Alumnos matriculados en primer año por otra vía = Matrícula de primer año. |\n",
    "| Valor de matrícula                     | Entero positivo | Corresponde al valor en pesos que se cobró este año a los alumnos de primer año matriculados en una carrera o programa por concepto de matrícula o arancel básico. | $120,000                            | -                                                                       |\n",
    "| Valor de arancel                       | Entero positivo | Corresponde al valor en pesos del arancel anual que el alumno de primer año debe pagar a la institución a propósito de la suscripción de un contrato de prestación de servicios educacionales para esta carrera o programa (excluida la matrícula). | $3,133,750                          | -                                                                       |\n",
    "| Valor del Título                       | Entero positivo | Corresponde al monto en pesos que deben pagar los alumnos para el desarrollo del proceso de titulación o graduación, una vez que se encuentran egresados. Incluye el desarrollo y presentación del trabajo final de la carrera o programa o la rendición de un examen de título o graduación. | $38,000                             | -                                                                       |\n",
    "| Tipo de Moneda                         | Texto           | Corresponde al tipo de moneda en la que se expresa el valor. | a) UF; b) Pesos                       | -                                                                       |\n",
    "| Vacantes                               | Entero positivo | Corresponde al número total de vacantes ofrecidas en el primer semestre para primer año. | 40                                  | -                                                                       |\n",
    "| Matrícula primer año hombres           | Entero positivo | Corresponde al número de hombres matriculados en el primer año o semestre de la carrera. | 100                                 | -                                                                       |\n",
    "| Matrícula primer año mujeres           | Entero positivo | Corresponde al número de mujeres matriculadas en el primer año o semestre de la carrera o programa. | 50                                  | -                                                                       |\n",
    "| Matrícula primer año extranjeros       | Entero positivo | Corresponde al número de extranjeros matriculados en el primer año o semestre de la carrera. | 10                                  | -                                                                       |\n",
    "| Matrícula Primer Año                   | Entero positivo | Corresponde al número de hombres y mujeres matriculados en el primer año o semestre de la carrera. | 150                                 | -                                                                       |\n",
    "| Matrícula total hombres                | Entero positivo | Corresponde al número total de hombres matriculados en la carrera o programa. Alumnos nuevos más antiguos. | 200                                 | -                                                                       |\n",
    "| Matrícula total mujeres                | Entero positivo | Corresponde al número total de mujeres matriculadas en la carrera o programa. Alumnas nuevas más antiguas. | 100                                 | -                                                                       |\n",
    "| Matrícula total extranjeros            | Entero positivo | Corresponde al número total de alumnos extranjeros matriculados en la carrera o programa. | 15                                  | -                                                                       |\n",
    "| Matrícula Total                        | Entero positivo | Corresponde al número total de hombres y mujeres matriculados en la carrera o programa. Alumnos nuevos más antiguos. | 300                                 | -                                                                       |\n",
    "| Código SIES                            | Entero positivo | Corresponde a la matrícula 2017 de los estudiantes del año de cohorte 2016. | I1S1C237J1V1                         | -                                                                       |\n",
    "| Pregrado/Posgrado                      | Entero positivo | Corresponde al nivel de clasificación pregrado - pregrado de los programas. | Pregrado                             | -                                                                       |\n",
    "\n"
   ]
  },
  {
   "cell_type": "code",
   "execution_count": 1,
   "metadata": {},
   "outputs": [],
   "source": [
    "import pandas as pd\n",
    "df = pd.read_csv('BaseDefinitivaINDICES-2005-2024.csv', low_memory=False)"
   ]
  },
  {
   "cell_type": "markdown",
   "metadata": {},
   "source": [
    "## Cantidad de registros\n",
    "El archivo contiene 232739 filas y 61 columnas"
   ]
  },
  {
   "cell_type": "code",
   "execution_count": 2,
   "metadata": {},
   "outputs": [
    {
     "name": "stdout",
     "output_type": "stream",
     "text": [
      "Cantidad de filas: 232739 - Cantidad de columnas: 61\n"
     ]
    }
   ],
   "source": [
    "print(f'Cantidad de filas: {df.shape[0]} - Cantidad de columnas: {df.shape[1]}')"
   ]
  },
  {
   "cell_type": "code",
   "execution_count": 3,
   "metadata": {},
   "outputs": [
    {
     "name": "stdout",
     "output_type": "stream",
     "text": [
      "                 Año  Cód. Institución  \\\n",
      "count  232739.000000     232739.000000   \n",
      "mean     2015.440309       1671.730075   \n",
      "std         5.472678        757.907220   \n",
      "min      2005.000000       1001.000000   \n",
      "25%      2011.000000       1028.000000   \n",
      "50%      2016.000000       1055.000000   \n",
      "75%      2020.000000       2029.000000   \n",
      "max      2024.000000       4063.000000   \n",
      "\n",
      "       Orden Geográfico de la Región (Norte aSur)   Cód. Carrera  \\\n",
      "count                               232739.000000  232739.000000   \n",
      "mean                                     7.797331   19125.629804   \n",
      "std                                      2.939225   13673.327185   \n",
      "min                                      1.000000    1000.000000   \n",
      "25%                                      7.000000    7508.000000   \n",
      "50%                                      7.000000   16346.000000   \n",
      "75%                                     10.000000   29204.000000   \n",
      "max                                     16.000000   53371.000000   \n",
      "\n",
      "       idgenerocarrera  Año Inicio Actividades  Duración (en semestres)  \\\n",
      "count     2.327390e+05           232739.000000            232013.000000   \n",
      "mean      8.533786e+05             2006.162938                 6.470034   \n",
      "std       3.483084e+05               12.557125                 2.599600   \n",
      "min       1.060100e+04             1833.000000                 1.000000   \n",
      "25%       1.004002e+06             2003.000000                 4.000000   \n",
      "50%       1.008010e+06             2008.000000                 5.000000   \n",
      "75%       1.009010e+06             2013.000000                 8.000000   \n",
      "max       2.030005e+06             2024.000000                14.000000   \n",
      "\n",
      "        Cód. Campus     Cód. Sede  \\\n",
      "count  1.108250e+05  2.327390e+05   \n",
      "mean   1.430731e+09  1.671735e+06   \n",
      "std    6.405987e+08  7.579093e+05   \n",
      "min    0.000000e+00  1.001001e+06   \n",
      "25%    1.020001e+09  1.028001e+06   \n",
      "50%    1.040001e+09  1.055001e+06   \n",
      "75%    2.012004e+09  2.029008e+06   \n",
      "max    4.045001e+09  4.063001e+06   \n",
      "\n",
      "       Máximo Puntaje (promedio matemáticas y lenguaje)  ...      Vacantes  \\\n",
      "count                                      42027.000000  ...  1.714840e+05   \n",
      "mean                                         660.885764  ...  4.212613e+02   \n",
      "std                                           94.575256  ...  6.378752e+04   \n",
      "min                                          266.000000  ...  1.000000e+00   \n",
      "25%                                          602.000000  ...  2.000000e+01   \n",
      "50%                                          657.000000  ...  3.000000e+01   \n",
      "75%                                          714.000000  ...  5.000000e+01   \n",
      "max                                         1000.000000  ...  1.078400e+07   \n",
      "\n",
      "       Matrícula primer año hombres  Matrícula primer año mujeres  \\\n",
      "count                 210639.000000                 210399.000000   \n",
      "mean                      15.593489                     16.498890   \n",
      "std                       25.675797                     26.597817   \n",
      "min                        0.000000                      0.000000   \n",
      "25%                        1.000000                      1.000000   \n",
      "50%                        8.000000                      8.000000   \n",
      "75%                       20.000000                     22.000000   \n",
      "max                     1117.000000                   1203.000000   \n",
      "\n",
      "       Matrícula primer año extranjeros      auxiliar  Matrícula Primer Año  \\\n",
      "count                     168723.000000  2.327390e+05         232739.000000   \n",
      "mean                           0.629713  1.671932e+07             29.027997   \n",
      "std                            2.315224  7.579072e+06             42.252116   \n",
      "min                            0.000000  1.001200e+07              0.000000   \n",
      "25%                            0.000000  1.028201e+07              1.000000   \n",
      "50%                            0.000000  1.055201e+07             18.000000   \n",
      "75%                            1.000000  2.029202e+07             40.000000   \n",
      "max                          252.000000  4.063202e+07           1954.000000   \n",
      "\n",
      "       Matrícula total hombres  Matrícula total mujeres  \\\n",
      "count            229392.000000            228981.000000   \n",
      "mean                 45.774513                49.210576   \n",
      "std                  87.354651                87.658286   \n",
      "min                   0.000000                 0.000000   \n",
      "25%                   6.000000                 5.000000   \n",
      "50%                  19.000000                18.000000   \n",
      "75%                  51.000000                55.000000   \n",
      "max                4221.000000              3161.000000   \n",
      "\n",
      "       Matrícula total extranjeros  Matrícula Total  \n",
      "count                178334.000000    232739.000000  \n",
      "mean                      1.660194        93.532214  \n",
      "std                       6.746375       150.790275  \n",
      "min                       0.000000         1.000000  \n",
      "25%                       0.000000        16.000000  \n",
      "50%                       0.000000        46.000000  \n",
      "75%                       1.000000       110.000000  \n",
      "max                     967.000000      6048.000000  \n",
      "\n",
      "[8 rows x 33 columns]\n"
     ]
    }
   ],
   "source": [
    "print(df.describe())"
   ]
  },
  {
   "cell_type": "markdown",
   "metadata": {},
   "source": [
    "## Nombres de columnas\n",
    "En primera instancia se puede observar que los nombres de las columnas están con espacios y con carácteres especiales como tildes o º por lo que se recomienda estandarizar a minúsculas y separados por _ para evitar posibles problemas."
   ]
  },
  {
   "cell_type": "code",
   "execution_count": 9,
   "metadata": {},
   "outputs": [
    {
     "name": "stdout",
     "output_type": "stream",
     "text": [
      "Index(['Año', 'Cód. Institución', 'Nombre Institución', 'Tipo Institución',\n",
      "       'Clasificación1', 'Clasificación2', 'Clasificación3', 'Clasificación4',\n",
      "       'Clasificación5', 'Clasificación6', 'Nombre de la Sede',\n",
      "       'Comuna donde se imparte la carrera o programa', 'Nombre Region',\n",
      "       'Orden Geográfico de la Región (Norte aSur)', 'Cód. Carrera',\n",
      "       'Carrera Genérica', 'Nombre Programa', 'Mención o Especialidad',\n",
      "       'Horario', 'Tipo Programa', 'Area Conocimiento', 'idgenerocarrera',\n",
      "       'Tipo Carrera', 'IngresoDirecto', 'Año Inicio Actividades',\n",
      "       'Nombre del Campus', 'Duración (en semestres)', 'Cód. Campus',\n",
      "       'Cód. Sede', 'Título', 'Grado Académico',\n",
      "       'Máximo Puntaje (promedio matemáticas y lenguaje)',\n",
      "       'Promedio Puntaje (promedio matemáticas y lenguaje)',\n",
      "       'Mínimo Puntaje (promedio matemáticas y lenguaje)',\n",
      "       'Puntaje de corte (primer seleccionado)',\n",
      "       'Puntaje de corte (promedio de la carrera)',\n",
      "       'Puntaje de corte (último seleccionado)', 'Máximo Puntaje NEM',\n",
      "       'Promedio Puntaje NEM', 'Mínimo Puntaje NEM', 'Máximo Puntaje Ranking',\n",
      "       'Promedio Puntaje Ranking', 'Mínimo Puntaje Ranking',\n",
      "       'Nº Alumnos Ingreso Via PSU o PDT', 'Nº Alumnos Ingreso Otra Via',\n",
      "       'Valor de matrícula', 'Valor de arancel', 'Valor del Título',\n",
      "       'Tipo Moneda', 'Vacantes', 'Matrícula primer año hombres',\n",
      "       'Matrícula primer año mujeres', 'Matrícula primer año extranjeros',\n",
      "       'auxiliar', 'Matrícula Primer Año', 'Matrícula total hombres',\n",
      "       'Matrícula total mujeres', 'Matrícula total extranjeros',\n",
      "       'Matrícula Total', 'Códgo SIES', 'Pregrado/Posgrado'],\n",
      "      dtype='object')\n"
     ]
    }
   ],
   "source": [
    "print(df.columns)"
   ]
  },
  {
   "cell_type": "markdown",
   "metadata": {},
   "source": [
    "## Tipos de datos\n",
    "Un tema importante al importar los datos es considerar que hay campos que se importan como numéricos que son categóricos, como por ejemplo \"Año\" o \"Cód. Institución\". Por lo tanto es importante definir este tipo de campos como categóricos para evitar problemas."
   ]
  },
  {
   "cell_type": "code",
   "execution_count": 10,
   "metadata": {},
   "outputs": [
    {
     "name": "stdout",
     "output_type": "stream",
     "text": [
      "<class 'pandas.core.frame.DataFrame'>\n",
      "RangeIndex: 232739 entries, 0 to 232738\n",
      "Data columns (total 61 columns):\n",
      " #   Column                                              Non-Null Count   Dtype  \n",
      "---  ------                                              --------------   -----  \n",
      " 0   Año                                                 232739 non-null  int64  \n",
      " 1   Cód. Institución                                    232739 non-null  int64  \n",
      " 2   Nombre Institución                                  232739 non-null  object \n",
      " 3   Tipo Institución                                    232739 non-null  object \n",
      " 4   Clasificación1                                      232739 non-null  object \n",
      " 5   Clasificación2                                      232739 non-null  object \n",
      " 6   Clasificación3                                      232739 non-null  object \n",
      " 7   Clasificación4                                      232739 non-null  object \n",
      " 8   Clasificación5                                      232739 non-null  object \n",
      " 9   Clasificación6                                      232739 non-null  object \n",
      " 10  Nombre de la Sede                                   232739 non-null  object \n",
      " 11  Comuna donde se imparte la carrera o programa       232739 non-null  object \n",
      " 12  Nombre Region                                       232739 non-null  object \n",
      " 13  Orden Geográfico de la Región (Norte aSur)          232739 non-null  int64  \n",
      " 14  Cód. Carrera                                        232739 non-null  int64  \n",
      " 15  Carrera Genérica                                    232739 non-null  object \n",
      " 16  Nombre Programa                                     232739 non-null  object \n",
      " 17  Mención o Especialidad                              32205 non-null   object \n",
      " 18  Horario                                             232739 non-null  object \n",
      " 19  Tipo Programa                                       232739 non-null  object \n",
      " 20  Area Conocimiento                                   232739 non-null  object \n",
      " 21  idgenerocarrera                                     232739 non-null  int64  \n",
      " 22  Tipo Carrera                                        232739 non-null  object \n",
      " 23  IngresoDirecto                                      232739 non-null  object \n",
      " 24  Año Inicio Actividades                              232739 non-null  int64  \n",
      " 25  Nombre del Campus                                   110377 non-null  object \n",
      " 26  Duración (en semestres)                             232013 non-null  float64\n",
      " 27  Cód. Campus                                         110825 non-null  float64\n",
      " 28  Cód. Sede                                           232739 non-null  int64  \n",
      " 29  Título                                              200853 non-null  object \n",
      " 30  Grado Académico                                     87039 non-null   object \n",
      " 31  Máximo Puntaje (promedio matemáticas y lenguaje)    42027 non-null   float64\n",
      " 32  Promedio Puntaje (promedio matemáticas y lenguaje)  41735 non-null   float64\n",
      " 33  Mínimo Puntaje (promedio matemáticas y lenguaje)    41577 non-null   float64\n",
      " 34  Puntaje de corte (primer seleccionado)              36037 non-null   float64\n",
      " 35  Puntaje de corte (promedio de la carrera)           35941 non-null   float64\n",
      " 36  Puntaje de corte (último seleccionado)              38072 non-null   float64\n",
      " 37  Máximo Puntaje NEM                                  21965 non-null   float64\n",
      " 38  Promedio Puntaje NEM                                22150 non-null   float64\n",
      " 39  Mínimo Puntaje NEM                                  21952 non-null   float64\n",
      " 40  Máximo Puntaje Ranking                              20929 non-null   float64\n",
      " 41  Promedio Puntaje Ranking                            21072 non-null   float64\n",
      " 42  Mínimo Puntaje Ranking                              20916 non-null   float64\n",
      " 43  Nº Alumnos Ingreso Via PSU o PDT                    43463 non-null   float64\n",
      " 44  Nº Alumnos Ingreso Otra Via                         77458 non-null   float64\n",
      " 45  Valor de matrícula                                  179349 non-null  object \n",
      " 46  Valor de arancel                                    173306 non-null  object \n",
      " 47  Valor del Título                                    194882 non-null  object \n",
      " 48  Tipo Moneda                                         232739 non-null  object \n",
      " 49  Vacantes                                            171484 non-null  float64\n",
      " 50  Matrícula primer año hombres                        210639 non-null  float64\n",
      " 51  Matrícula primer año mujeres                        210399 non-null  float64\n",
      " 52  Matrícula primer año extranjeros                    168723 non-null  float64\n",
      " 53  auxiliar                                            232739 non-null  int64  \n",
      " 54  Matrícula Primer Año                                232739 non-null  int64  \n",
      " 55  Matrícula total hombres                             229392 non-null  float64\n",
      " 56  Matrícula total mujeres                             228981 non-null  float64\n",
      " 57  Matrícula total extranjeros                         178334 non-null  float64\n",
      " 58  Matrícula Total                                     232739 non-null  int64  \n",
      " 59  Códgo SIES                                          145692 non-null  object \n",
      " 60  Pregrado/Posgrado                                   232739 non-null  object \n",
      "dtypes: float64(23), int64(10), object(28)\n",
      "memory usage: 108.3+ MB\n",
      "None\n"
     ]
    }
   ],
   "source": [
    "print(df.info())"
   ]
  },
  {
   "cell_type": "markdown",
   "metadata": {},
   "source": [
    "## Valores nulos\n",
    "A continuación se muestran los campos que continienen valores nulos, siendo \"Mínimo Puntaje Ranking\" el de mayor cantidad."
   ]
  },
  {
   "cell_type": "code",
   "execution_count": 11,
   "metadata": {},
   "outputs": [
    {
     "name": "stdout",
     "output_type": "stream",
     "text": [
      "Mínimo Puntaje Ranking                                91.013109\n",
      "Máximo Puntaje Ranking                                91.007523\n",
      "Promedio Puntaje Ranking                              90.946081\n",
      "Mínimo Puntaje NEM                                    90.567975\n",
      "Máximo Puntaje NEM                                    90.562390\n",
      "Promedio Puntaje NEM                                  90.482901\n",
      "Mención o Especialidad                                86.162611\n",
      "Puntaje de corte (promedio de la carrera)             84.557380\n",
      "Puntaje de corte (primer seleccionado)                84.516132\n",
      "Puntaje de corte (último seleccionado)                83.641762\n",
      "Mínimo Puntaje (promedio matemáticas y lenguaje)      82.135783\n",
      "Promedio Puntaje (promedio matemáticas y lenguaje)    82.067896\n",
      "Máximo Puntaje (promedio matemáticas y lenguaje)      81.942433\n",
      "Nº Alumnos Ingreso Via PSU o PDT                      81.325433\n",
      "Nº Alumnos Ingreso Otra Via                           66.718943\n",
      "Grado Académico                                       62.602314\n",
      "Nombre del Campus                                     52.574773\n",
      "Cód. Campus                                           52.382282\n",
      "Códgo SIES                                            37.401123\n",
      "Matrícula primer año extranjeros                      27.505489\n",
      "Vacantes                                              26.319182\n",
      "Valor de arancel                                      25.536330\n",
      "Matrícula total extranjeros                           23.375971\n",
      "Valor de matrícula                                    22.939860\n",
      "Valor del Título                                      16.265860\n",
      "Título                                                13.700325\n",
      "Matrícula primer año mujeres                           9.598735\n",
      "Matrícula primer año hombres                           9.495615\n",
      "Matrícula total mujeres                                1.614684\n",
      "Matrícula total hombres                                1.438092\n",
      "Duración (en semestres)                                0.311937\n",
      "dtype: float64\n"
     ]
    }
   ],
   "source": [
    "missing_values = df.isnull().sum()\n",
    "missing_values = missing_values[missing_values > 0].sort_values(ascending=False)\n",
    "missing_values = missing_values / df.shape[0] * 100\n",
    "print(missing_values)"
   ]
  },
  {
   "cell_type": "code",
   "execution_count": 16,
   "metadata": {},
   "outputs": [
    {
     "name": "stdout",
     "output_type": "stream",
     "text": [
      "Año\n",
      "2005    100.000000\n",
      "2006    100.000000\n",
      "2007    100.000000\n",
      "2008    100.000000\n",
      "2009    100.000000\n",
      "2010    100.000000\n",
      "2011    100.000000\n",
      "2012    100.000000\n",
      "2013     88.481117\n",
      "2014     87.684577\n",
      "2015     88.117683\n",
      "2016     87.446856\n",
      "2017     86.570186\n",
      "2018     87.662967\n",
      "2019     86.671738\n",
      "2020     86.625822\n",
      "2021     86.768083\n",
      "2022     86.653949\n",
      "2023     86.419838\n",
      "2024     81.942171\n",
      "Name: Mínimo Puntaje Ranking, dtype: float64\n"
     ]
    }
   ],
   "source": [
    "missing_values = df.groupby('Año')['Mínimo Puntaje Ranking'].apply(lambda x: x.isnull().sum() / x.shape[0] * 100)\n",
    "print(missing_values)"
   ]
  },
  {
   "cell_type": "markdown",
   "metadata": {},
   "source": [
    "## Valores duplicados\n",
    "En la base de datos se justifican los registros duplicados debido a que una misma carrera puede ser impartida múltiples añospor una misma institución además de ser impartida por múltiples instituciones. Por lo mismo, para determinar la existencia deregistros duplicados se realiza en base a los campos \"Año\", \"Cód. Institución\" y \"Cód. Carrera\". En este sentido, no se encuentran registros duplicados en la base de datos."
   ]
  },
  {
   "cell_type": "code",
   "execution_count": 7,
   "metadata": {},
   "outputs": [
    {
     "data": {
      "text/plain": [
       "Series([], dtype: bool)"
      ]
     },
     "execution_count": 7,
     "metadata": {},
     "output_type": "execute_result"
    }
   ],
   "source": [
    "\n",
    "duplicated_rows = df.duplicated(subset=['Año', 'Cód. Institución', 'Cód. Carrera'])\n",
    "duplicated_rows = duplicated_rows[duplicated_rows]\n",
    "duplicated_rows"
   ]
  },
  {
   "cell_type": "markdown",
   "metadata": {},
   "source": [
    "## Rangos de valores\n",
    "Como análisis inicial se puede observar que, en promedio, la cantidad de matrículas total de mujeres es mayor que la de mujeres hombres."
   ]
  },
  {
   "cell_type": "code",
   "execution_count": 17,
   "metadata": {},
   "outputs": [
    {
     "data": {
      "text/html": [
       "<div>\n",
       "<style scoped>\n",
       "    .dataframe tbody tr th:only-of-type {\n",
       "        vertical-align: middle;\n",
       "    }\n",
       "\n",
       "    .dataframe tbody tr th {\n",
       "        vertical-align: top;\n",
       "    }\n",
       "\n",
       "    .dataframe thead th {\n",
       "        text-align: right;\n",
       "    }\n",
       "</style>\n",
       "<table border=\"1\" class=\"dataframe\">\n",
       "  <thead>\n",
       "    <tr style=\"text-align: right;\">\n",
       "      <th></th>\n",
       "      <th>Matrícula total hombres</th>\n",
       "      <th>Matrícula total mujeres</th>\n",
       "    </tr>\n",
       "  </thead>\n",
       "  <tbody>\n",
       "    <tr>\n",
       "      <th>count</th>\n",
       "      <td>229392.000000</td>\n",
       "      <td>228981.000000</td>\n",
       "    </tr>\n",
       "    <tr>\n",
       "      <th>mean</th>\n",
       "      <td>45.774513</td>\n",
       "      <td>49.210576</td>\n",
       "    </tr>\n",
       "    <tr>\n",
       "      <th>std</th>\n",
       "      <td>87.354651</td>\n",
       "      <td>87.658286</td>\n",
       "    </tr>\n",
       "    <tr>\n",
       "      <th>min</th>\n",
       "      <td>0.000000</td>\n",
       "      <td>0.000000</td>\n",
       "    </tr>\n",
       "    <tr>\n",
       "      <th>25%</th>\n",
       "      <td>6.000000</td>\n",
       "      <td>5.000000</td>\n",
       "    </tr>\n",
       "    <tr>\n",
       "      <th>50%</th>\n",
       "      <td>19.000000</td>\n",
       "      <td>18.000000</td>\n",
       "    </tr>\n",
       "    <tr>\n",
       "      <th>75%</th>\n",
       "      <td>51.000000</td>\n",
       "      <td>55.000000</td>\n",
       "    </tr>\n",
       "    <tr>\n",
       "      <th>max</th>\n",
       "      <td>4221.000000</td>\n",
       "      <td>3161.000000</td>\n",
       "    </tr>\n",
       "  </tbody>\n",
       "</table>\n",
       "</div>"
      ],
      "text/plain": [
       "       Matrícula total hombres  Matrícula total mujeres\n",
       "count            229392.000000            228981.000000\n",
       "mean                 45.774513                49.210576\n",
       "std                  87.354651                87.658286\n",
       "min                   0.000000                 0.000000\n",
       "25%                   6.000000                 5.000000\n",
       "50%                  19.000000                18.000000\n",
       "75%                  51.000000                55.000000\n",
       "max                4221.000000              3161.000000"
      ]
     },
     "execution_count": 17,
     "metadata": {},
     "output_type": "execute_result"
    }
   ],
   "source": [
    "cols = ['Matrícula total hombres', 'Matrícula total mujeres']\n",
    "df[cols].describe()"
   ]
  },
  {
   "cell_type": "code",
   "execution_count": null,
   "metadata": {},
   "outputs": [],
   "source": []
  }
 ],
 "metadata": {
  "kernelspec": {
   "display_name": "Python 3",
   "language": "python",
   "name": "python3"
  },
  "language_info": {
   "codemirror_mode": {
    "name": "ipython",
    "version": 3
   },
   "file_extension": ".py",
   "mimetype": "text/x-python",
   "name": "python",
   "nbconvert_exporter": "python",
   "pygments_lexer": "ipython3",
   "version": "3.9.7"
  }
 },
 "nbformat": 4,
 "nbformat_minor": 2
}
