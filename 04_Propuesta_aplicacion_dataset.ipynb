{
 "cells": [
  {
   "cell_type": "markdown",
   "metadata": {},
   "source": [
    "# Conclusiones de la visualización de los datos\n",
    "\n",
    "Mediante los resultados visualizados en los gráficos del paso anterior, se puede concluir que existen diferencias en las áreas del conocimiento que se matriculan por género, siendo las más elegidas por hombres en los tipos de programa de tecnología y FFAA, mientras que en los programas de salud, educación y ciencias sociales hay una predominancia de mujeres.\n",
    "\n",
    "Por su lado, __preliminarmente__ no se observan grandes diferencias en las cantidades de matrículas por género por años, indicando que la tendencia de áreas del conocimiento elegidas por hombres y mujeres se ha mantenido. Destacar que esta aseveración es basada únicamente en la visualización de los datos, por lo que pruebas estadísticas pueden indicar lo contrario."
   ]
  },
  {
   "cell_type": "markdown",
   "metadata": {},
   "source": [
    "# Propuesta aplicación práctica del dataset\n",
    "\n",
    "En base a los datos visualizados anteriormente, se propone lo siguiente:\n",
    "\n",
    "Generar estadísticas específicas relacionadas a la evolución de elección de áreas del conocimiento y de carreras entre hombres y mujeres. Además, se pueden incluir factores como el ranking de la universidad, costo de aranceles de las carreras y ubicación del establecimiento para determinar si existen diferencias en la elección de carreras según género y su evolución en el tiempo.\n",
    "\n",
    "Si bien, la base de datos se encuentra en general ordenada, existen columnas importantes que tienen múltiples registros nulos, tales como el valor del arancel o el nombre del título. Esto puede dificultar la exactitud de los análisis realizados.\n",
    "\n",
    "Para el caso de las carreras más elegidas, es necesario desglosar el valor de \"Posgrado\" en valores más específicos que permitan determinar de mejor manera qué representa.\n",
    "\n",
    "Por su lado, el dataset está limitado a universidades chilenas, por lo que sus tendencias sólo representarían los datos nacionales.\n",
    "\n",
    "Esto puede tener aplicaciones para la toma de decisiones en políticas públicas, en la creación de programas de becas o en la creación de programas de orientación vocacional para estudiantes de enseñanza media, ambos basados en las tendencias de elección de carreras por género. Además permitiría el fortalecimiento de la equidad de género en la elección de carreras y áreas del conocimiento, fomentando la diversidad en la educación superior.\n"
   ]
  }
 ],
 "metadata": {
  "language_info": {
   "name": "python"
  }
 },
 "nbformat": 4,
 "nbformat_minor": 2
}
