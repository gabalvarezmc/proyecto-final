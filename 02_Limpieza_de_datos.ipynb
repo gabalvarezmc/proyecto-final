{
 "cells": [
  {
   "cell_type": "markdown",
   "metadata": {},
   "source": [
    "# Limpieza de datos"
   ]
  },
  {
   "cell_type": "code",
   "execution_count": 36,
   "metadata": {},
   "outputs": [],
   "source": [
    "import pandas as pd\n",
    "df = pd.read_csv('BaseDefinitivaINDICES-2005-2024.csv', low_memory=False)"
   ]
  },
  {
   "cell_type": "markdown",
   "metadata": {},
   "source": [
    "## Redefinición de nombres de columnas\n",
    "Como la base de datos tiene nombres de columnas con carácteres especiales, se realiza una estandarización de los nombres de columnas, reemplazando espacios, tildes y otros carácteres especiales que se puedan encontrar.\n",
    "Esto se hace para evitar problemas futuros en el llamado de las columnas y para facilitar el trabajo del dataset."
   ]
  },
  {
   "cell_type": "code",
   "execution_count": 37,
   "metadata": {},
   "outputs": [
    {
     "name": "stdout",
     "output_type": "stream",
     "text": [
      "Index(['anio', 'cod_institucion', 'nombre_institucion', 'tipo_institucion',\n",
      "       'clasificacion1', 'clasificacion2', 'clasificacion3', 'clasificacion4',\n",
      "       'clasificacion5', 'clasificacion6', 'nombre_de_la_sede',\n",
      "       'comuna_donde_se_imparte_la_carrera_o_programa', 'nombre_region',\n",
      "       'orden_geografico_de_la_region_norte_asur', 'cod_carrera',\n",
      "       'carrera_generica', 'nombre_programa', 'mencion_o_especialidad',\n",
      "       'horario', 'tipo_programa', 'area_conocimiento', 'idgenerocarrera',\n",
      "       'tipo_carrera', 'ingresodirecto', 'anio_inicio_actividades',\n",
      "       'nombre_del_campus', 'duracion_en_semestres', 'cod_campus', 'cod_sede',\n",
      "       'titulo', 'grado_academico',\n",
      "       'maximo_puntaje_promedio_matematicas_y_lenguaje',\n",
      "       'promedio_puntaje_promedio_matematicas_y_lenguaje',\n",
      "       'minimo_puntaje_promedio_matematicas_y_lenguaje',\n",
      "       'puntaje_de_corte_primer_seleccionado',\n",
      "       'puntaje_de_corte_promedio_de_la_carrera',\n",
      "       'puntaje_de_corte_ultimo_seleccionado', 'maximo_puntaje_nem',\n",
      "       'promedio_puntaje_nem', 'minimo_puntaje_nem', 'maximo_puntaje_ranking',\n",
      "       'promedio_puntaje_ranking', 'minimo_puntaje_ranking',\n",
      "       'n_alumnos_ingreso_via_psu_o_pdt', 'n_alumnos_ingreso_otra_via',\n",
      "       'valor_de_matricula', 'valor_de_arancel', 'valor_del_titulo',\n",
      "       'tipo_moneda', 'vacantes', 'matricula_primer_anio_hombres',\n",
      "       'matricula_primer_anio_mujeres', 'matricula_primer_anio_extranjeros',\n",
      "       'auxiliar', 'matricula_primer_anio', 'matricula_total_hombres',\n",
      "       'matricula_total_mujeres', 'matricula_total_extranjeros',\n",
      "       'matricula_total', 'codgo_sies', 'pregradoposgrado'],\n",
      "      dtype='object')\n"
     ]
    }
   ],
   "source": [
    "df.columns = df.columns.str.replace(' ', '_')\n",
    "df.columns = df.columns.str.replace('á', 'a')\n",
    "df.columns = df.columns.str.replace('é', 'e')\n",
    "df.columns = df.columns.str.replace('í', 'i')\n",
    "df.columns = df.columns.str.replace('ó', 'o')\n",
    "df.columns = df.columns.str.replace('ú', 'u')\n",
    "df.columns = df.columns.str.replace('ñ', 'ni')\n",
    "df.columns = df.columns.str.replace('/', '')\n",
    "df.columns = df.columns.str.replace('º', '')\n",
    "df.columns = df.columns.str.replace('(', '', regex=False)\n",
    "df.columns = df.columns.str.replace(')', '', regex=False)\n",
    "df.columns = df.columns.str.replace('.', '', regex=False)\n",
    "df.columns = df.columns.str.lower()\n",
    "print(df.columns)"
   ]
  },
  {
   "cell_type": "markdown",
   "metadata": {},
   "source": [
    "## Valores duplicados\n",
    "Como se pudo observar en la fase de análisis exploratorio, en la base de datos se justifican los registros duplicados debido a que una misma carrera puede ser impartida múltiples añospor una misma institución además de ser impartida por múltiples instituciones. Por lo mismo, para determinar la existencia deregistros duplicados se realiza en base a los campos \"Año\", \"Cód. Institución\" y \"Cód. Carrera\". En este sentido, no se encuentran registros duplicados en la base de datos."
   ]
  },
  {
   "cell_type": "markdown",
   "metadata": {},
   "source": [
    "## Valores nulos\n",
    "Como primera medida, se considera como regla dejar fuera las columnas que tienen más de un 50% de datos nulos debido a la falta de información suficiente. \n",
    "\n",
    "Para el caso de la columna \"codgo_sies\" que tiene un 37.4% de registros nulos, también se deja fuera porque al ser un código identificador de casos específicos, una imputación no tiene sentido.\n",
    "\n",
    "....................\n",
    "\n",
    "\n"
   ]
  },
  {
   "cell_type": "code",
   "execution_count": 38,
   "metadata": {},
   "outputs": [
    {
     "name": "stdout",
     "output_type": "stream",
     "text": [
      "minimo_puntaje_ranking                              91.013109\n",
      "maximo_puntaje_ranking                              91.007523\n",
      "promedio_puntaje_ranking                            90.946081\n",
      "minimo_puntaje_nem                                  90.567975\n",
      "maximo_puntaje_nem                                  90.562390\n",
      "promedio_puntaje_nem                                90.482901\n",
      "mencion_o_especialidad                              86.162611\n",
      "puntaje_de_corte_promedio_de_la_carrera             84.557380\n",
      "puntaje_de_corte_primer_seleccionado                84.516132\n",
      "puntaje_de_corte_ultimo_seleccionado                83.641762\n",
      "minimo_puntaje_promedio_matematicas_y_lenguaje      82.135783\n",
      "promedio_puntaje_promedio_matematicas_y_lenguaje    82.067896\n",
      "maximo_puntaje_promedio_matematicas_y_lenguaje      81.942433\n",
      "n_alumnos_ingreso_via_psu_o_pdt                     81.325433\n",
      "n_alumnos_ingreso_otra_via                          66.718943\n",
      "grado_academico                                     62.602314\n",
      "nombre_del_campus                                   52.574773\n",
      "cod_campus                                          52.382282\n",
      "codgo_sies                                          37.401123\n",
      "matricula_primer_anio_extranjeros                   27.505489\n",
      "vacantes                                            26.319182\n",
      "valor_de_arancel                                    25.536330\n",
      "matricula_total_extranjeros                         23.375971\n",
      "valor_de_matricula                                  22.939860\n",
      "valor_del_titulo                                    16.265860\n",
      "titulo                                              13.700325\n",
      "matricula_primer_anio_mujeres                        9.598735\n",
      "matricula_primer_anio_hombres                        9.495615\n",
      "matricula_total_mujeres                              1.614684\n",
      "matricula_total_hombres                              1.438092\n",
      "duracion_en_semestres                                0.311937\n",
      "dtype: float64\n"
     ]
    }
   ],
   "source": [
    "missing_values = df.isnull().sum()\n",
    "missing_values = missing_values[missing_values > 0].sort_values(ascending=False)\n",
    "missing_values = missing_values / df.shape[0] * 100\n",
    "cols_with_more_than50_mv = missing_values[missing_values > 50]\n",
    "print(missing_values)"
   ]
  },
  {
   "cell_type": "code",
   "execution_count": 39,
   "metadata": {},
   "outputs": [],
   "source": [
    "# Se descartan las columnas con más del 50% de valores faltantes\n",
    "df = df.drop(cols_with_more_than50_mv.index, axis=1)\n",
    "# Se descartan las columnas que no aportan información relevante\n",
    "df = df.drop(columns=['codgo_sies', 'valor_de_arancel', 'valor_de_matricula', 'valor_del_titulo', 'titulo'], axis=1)"
   ]
  },
  {
   "cell_type": "code",
   "execution_count": 40,
   "metadata": {},
   "outputs": [],
   "source": [
    "# Se imputan los valores faltantes de las variables numéricas con la media redondeada de la carrera genérica \n",
    "df['matricula_primer_anio_extranjeros'] = df.groupby('carrera_generica')['matricula_primer_anio_extranjeros'].transform(lambda x: x.fillna(x.mean()))\n",
    "df['matricula_total_extranjeros'] = df.groupby('carrera_generica')['matricula_total_extranjeros'].transform(lambda x: x.fillna(x.mean()))\n",
    "df['matricula_primer_anio_mujeres'] = df.groupby('carrera_generica')['matricula_primer_anio_mujeres'].transform(lambda x: x.fillna(x.mean()))\n",
    "df['matricula_primer_anio_hombres'] = df.groupby('carrera_generica')['matricula_primer_anio_hombres'].transform(lambda x: x.fillna(x.mean()))\n",
    "df['matricula_total_mujeres'] = df.groupby('carrera_generica')['matricula_total_mujeres'].transform(lambda x: x.fillna(x.mean()))\n",
    "df['matricula_total_hombres'] = df.groupby('carrera_generica')['matricula_total_hombres'].transform(lambda x: x.fillna(x.mean()))\n",
    "df['duracion_en_semestres'] = df.groupby('carrera_generica')['duracion_en_semestres'].transform(lambda x: x.fillna(x.mean()))\n",
    "\n",
    "# Se redondean los valores de las variables numéricas\n",
    "df['matricula_primer_anio_extranjeros'] = df['matricula_primer_anio_extranjeros'].round()\n",
    "df['matricula_total_extranjeros'] = df['matricula_total_extranjeros'].round()\n",
    "df['matricula_primer_anio_mujeres'] = df['matricula_primer_anio_mujeres'].round()\n",
    "df['matricula_primer_anio_hombres'] = df['matricula_primer_anio_hombres'].round()\n",
    "df['matricula_total_mujeres'] = df['matricula_total_mujeres'].round()\n",
    "df['matricula_total_hombres'] = df['matricula_total_hombres'].round()\n",
    "df['duracion_en_semestres'] = df['duracion_en_semestres'].round()\n",
    "\n",
    "# Se imputan los valores faltantes de vacantes con la suma de matricula_primer_anio_mujeres, matricula_primer_anio_hombres y matricula_primer_anio_extranjeros\n",
    "df['vacantes'] = df['vacantes'].fillna(df['matricula_primer_anio_mujeres'] + df['matricula_primer_anio_hombres'] + df['matricula_primer_anio_extranjeros'])\n",
    "\n",
    "# Se eliminan las filas con valores faltantes en las variables carrera_generica, matricula_primer_anio_mujeres y matricula_primer_anio_hombres\n",
    "df = df.dropna(subset=['carrera_generica', 'matricula_primer_anio_mujeres', 'matricula_primer_anio_hombres'])\n"
   ]
  },
  {
   "cell_type": "code",
   "execution_count": 41,
   "metadata": {},
   "outputs": [
    {
     "name": "stdout",
     "output_type": "stream",
     "text": [
      "Series([], dtype: float64)\n"
     ]
    }
   ],
   "source": [
    "missing_values = df.isnull().sum()\n",
    "missing_values = missing_values[missing_values > 0].sort_values(ascending=False)\n",
    "missing_values = missing_values / df.shape[0] * 100\n",
    "print(missing_values)"
   ]
  },
  {
   "cell_type": "markdown",
   "metadata": {},
   "source": [
    "# Creación de nuevas variables\n",
    "Como la suma de matricula_total_mujeres y matricula_total_hombres no es igual a matricula_total, se crea una nueva variable matricula_total_nacional\n",
    "\n",
    "También se crean variables que representan el porcentaje de matrícula total de hombres y mujeres"
   ]
  },
  {
   "cell_type": "code",
   "execution_count": 46,
   "metadata": {},
   "outputs": [
    {
     "name": "stdout",
     "output_type": "stream",
     "text": [
      "\n",
      "      Matrícula total hombres: 10549917.0, \n",
      "      Matrícula total mujeres: 11338212.0,\n",
      "      Suma de matrícula total hombres y mujeres: 21888129.0, \n",
      "      Matrícula total: 21768589\n",
      "\n"
     ]
    }
   ],
   "source": [
    "print(f'''\n",
    "      Matrícula total hombres: {df[\"matricula_total_hombres\"].sum()}, \n",
    "      Matrícula total mujeres: {df[\"matricula_total_mujeres\"].sum()},\n",
    "      Suma de matrícula total hombres y mujeres: {df[\"matricula_total_hombres\"].sum() + df[\"matricula_total_mujeres\"].sum()}, \n",
    "      Matrícula total: {df[\"matricula_total\"].sum()}\n",
    "''')\n",
    "df['matricula_total_nacional'] = df['matricula_total_mujeres'] + df['matricula_total_hombres']"
   ]
  },
  {
   "cell_type": "code",
   "execution_count": 47,
   "metadata": {},
   "outputs": [],
   "source": [
    "df['percent_matricula_total_hombres'] = df['matricula_total_hombres'] / df['matricula_total_nacional']\n",
    "df['percent_matricula_total_mujeres'] = df['matricula_total_mujeres'] / df['matricula_total_nacional']"
   ]
  },
  {
   "cell_type": "code",
   "execution_count": 48,
   "metadata": {},
   "outputs": [],
   "source": [
    "df.to_csv('BaseDefinitivaINDICES-2005-2024_clean.csv', index=False)"
   ]
  },
  {
   "cell_type": "code",
   "execution_count": null,
   "metadata": {},
   "outputs": [],
   "source": []
  }
 ],
 "metadata": {
  "kernelspec": {
   "display_name": "Python 3",
   "language": "python",
   "name": "python3"
  },
  "language_info": {
   "codemirror_mode": {
    "name": "ipython",
    "version": 3
   },
   "file_extension": ".py",
   "mimetype": "text/x-python",
   "name": "python",
   "nbconvert_exporter": "python",
   "pygments_lexer": "ipython3",
   "version": "3.9.7"
  }
 },
 "nbformat": 4,
 "nbformat_minor": 2
}
